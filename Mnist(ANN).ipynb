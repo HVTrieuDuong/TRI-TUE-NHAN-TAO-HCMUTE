{
  "nbformat": 4,
  "nbformat_minor": 0,
  "metadata": {
    "colab": {
      "provenance": [],
      "authorship_tag": "ABX9TyPwLCWQETBJ+9dvX/jfaHnW",
      "include_colab_link": true
    },
    "kernelspec": {
      "name": "python3",
      "display_name": "Python 3"
    },
    "language_info": {
      "name": "python"
    }
  },
  "cells": [
    {
      "cell_type": "markdown",
      "metadata": {
        "id": "view-in-github",
        "colab_type": "text"
      },
      "source": [
        "<a href=\"https://colab.research.google.com/github/HVTrieuDuong/TRI-TUE-NHAN-TAO-HCMUTE/blob/main/Mnist(ANN).ipynb\" target=\"_parent\"><img src=\"https://colab.research.google.com/assets/colab-badge.svg\" alt=\"Open In Colab\"/></a>"
      ]
    },
    {
      "cell_type": "code",
      "execution_count": 1,
      "metadata": {
        "colab": {
          "base_uri": "https://localhost:8080/",
          "height": 468
        },
        "id": "-ke4eswczM4W",
        "outputId": "16c2a729-3a7d-4d16-fc42-cd2e8a190631"
      },
      "outputs": [
        {
          "output_type": "stream",
          "name": "stdout",
          "text": [
            "Downloading data from https://storage.googleapis.com/tensorflow/tf-keras-datasets/mnist.npz\n",
            "11490434/11490434 [==============================] - 0s 0us/step\n"
          ]
        },
        {
          "output_type": "display_data",
          "data": {
            "text/plain": [
              "<Figure size 640x480 with 9 Axes>"
            ],
            "image/png": "[encoded data removed]"
          },
          "metadata": {}
        }
      ],
      "source": [
        "from keras.datasets import mnist\n",
        "import matplotlib.pyplot as plt\n",
        "(x_train,y_train),(x_test,y_test)=mnist.load_data()\n",
        "for i in range(9):\n",
        "  plt.subplot(330+i+1)\n",
        "  plt.imshow(x_train[i])\n",
        "plt.show()"
      ]
    },
    {
      "cell_type": "code",
      "source": [
        "x=x_test"
      ],
      "metadata": {
        "id": "udv52qf4zTEX"
      },
      "execution_count": 2,
      "outputs": []
    },
    {
      "cell_type": "code",
      "source": [
        "x_train =x_train.reshape(60000,784)"
      ],
      "metadata": {
        "id": "eWrqxqhEzfLM"
      },
      "execution_count": 3,
      "outputs": []
    },
    {
      "cell_type": "code",
      "source": [
        "x_train =x_train.reshape(60000,784)"
      ],
      "metadata": {
        "id": "AMsQxmNDzgYW"
      },
      "execution_count": 4,
      "outputs": []
    },
    {
      "cell_type": "code",
      "source": [
        "x_test = x_test.reshape(10000,784)"
      ],
      "metadata": {
        "id": "8XjiF5q9zhWw"
      },
      "execution_count": 5,
      "outputs": []
    },
    {
      "cell_type": "code",
      "source": [
        "x_train = x_train.astype('float32')\n",
        "x_test = x_test.astype('float32')"
      ],
      "metadata": {
        "id": "1dODN2kUziYf"
      },
      "execution_count": 6,
      "outputs": []
    },
    {
      "cell_type": "code",
      "source": [
        "x_train/=255\n",
        "x_test/=255"
      ],
      "metadata": {
        "id": "Xeq5id70zjcW"
      },
      "execution_count": 7,
      "outputs": []
    },
    {
      "cell_type": "code",
      "source": [
        "from tensorflow.keras.utils import to_categorical"
      ],
      "metadata": {
        "id": "ZCgfuWqjzkdv"
      },
      "execution_count": 8,
      "outputs": []
    },
    {
      "cell_type": "code",
      "source": [
        "y_train=to_categorical(y_train,10)\n",
        "y_test=to_categorical(y_test,10)\n",
        "y_train.shape"
      ],
      "metadata": {
        "colab": {
          "base_uri": "https://localhost:8080/"
        },
        "id": "R7O1WtqYzlmK",
        "outputId": "5d9e860f-30b5-4510-f148-412248bfa8d5"
      },
      "execution_count": 9,
      "outputs": [
        {
          "output_type": "execute_result",
          "data": {
            "text/plain": [
              "(60000, 10)"
            ]
          },
          "metadata": {},
          "execution_count": 9
        }
      ]
    },
    {
      "cell_type": "code",
      "source": [
        "from keras.models import Sequential\n",
        "from keras.layers import Dense,Activation,Dropout\n",
        "model = Sequential()\n",
        "model.add(Dense(512,activation='relu',input_shape=(784,)))\n",
        "model.add(Dropout(0.2))\n",
        "model.add(Dense(512,activation='relu'))\n",
        "model.add(Dropout(0.1))\n",
        "model.add(Dense(10,activation=\"softmax\"))\n",
        "model.summary()"
      ],
      "metadata": {
        "colab": {
          "base_uri": "https://localhost:8080/"
        },
        "id": "N9PZWtHpzmn6",
        "outputId": "0045f3db-5669-4062-fa60-6fa157fd8194"
      },
      "execution_count": 10,
      "outputs": [
        {
          "output_type": "stream",
          "name": "stdout",
          "text": [
            "Model: \"sequential\"\n",
            "_________________________________________________________________\n",
            " Layer (type)                Output Shape              Param #   \n",
            "=================================================================\n",
            " dense (Dense)               (None, 512)               401920    \n",
            "                                                                 \n",
            " dropout (Dropout)           (None, 512)               0         \n",
            "                                                                 \n",
            " dense_1 (Dense)             (None, 512)               262656    \n",
            "                                                                 \n",
            " dropout_1 (Dropout)         (None, 512)               0         \n",
            "                                                                 \n",
            " dense_2 (Dense)             (None, 10)                5130      \n",
            "                                                                 \n",
            "=================================================================\n",
            "Total params: 669,706\n",
            "Trainable params: 669,706\n",
            "Non-trainable params: 0\n",
            "_________________________________________________________________\n"
          ]
        }
      ]
    },
    {
      "cell_type": "code",
      "source": [
        "from tensorflow.keras.optimizers import RMSprop\n",
        "model.compile(loss='categorical_crossentropy',optimizer=RMSprop(),metrics=['accuracy'])"
      ],
      "metadata": {
        "id": "5JscKm38znw2"
      },
      "execution_count": 11,
      "outputs": []
    },
    {
      "cell_type": "code",
      "source": [
        "model.fit(x_train, y_train, batch_size=128,epochs =20, verbose=1,validation_data=(x_test,y_test))"
      ],
      "metadata": {
        "colab": {
          "base_uri": "https://localhost:8080/"
        },
        "id": "P-F_ItNizpc9",
        "outputId": "a7141f4a-51c4-4452-e9ba-f777654632e1"
      },
      "execution_count": 12,
      "outputs": [
        {
          "output_type": "stream",
          "name": "stdout",
          "text": [
            "Epoch 1/20\n",
            "469/469 [==============================] - 17s 33ms/step - loss: 0.2518 - accuracy: 0.9223 - val_loss: 0.1071 - val_accuracy: 0.9647\n",
            "Epoch 2/20\n",
            "469/469 [==============================] - 12s 26ms/step - loss: 0.1033 - accuracy: 0.9684 - val_loss: 0.1051 - val_accuracy: 0.9646\n",
            "Epoch 3/20\n",
            "469/469 [==============================] - 9s 19ms/step - loss: 0.0730 - accuracy: 0.9774 - val_loss: 0.0710 - val_accuracy: 0.9788\n",
            "Epoch 4/20\n",
            "469/469 [==============================] - 10s 21ms/step - loss: 0.0584 - accuracy: 0.9814 - val_loss: 0.0688 - val_accuracy: 0.9790\n",
            "Epoch 5/20\n",
            "469/469 [==============================] - 10s 21ms/step - loss: 0.0467 - accuracy: 0.9850 - val_loss: 0.0640 - val_accuracy: 0.9813\n",
            "Epoch 6/20\n",
            "469/469 [==============================] - 10s 22ms/step - loss: 0.0394 - accuracy: 0.9873 - val_loss: 0.0813 - val_accuracy: 0.9788\n",
            "Epoch 7/20\n",
            "469/469 [==============================] - 15s 31ms/step - loss: 0.0337 - accuracy: 0.9891 - val_loss: 0.0652 - val_accuracy: 0.9830\n",
            "Epoch 8/20\n",
            "469/469 [==============================] - 14s 30ms/step - loss: 0.0276 - accuracy: 0.9909 - val_loss: 0.0687 - val_accuracy: 0.9821\n",
            "Epoch 9/20\n",
            "469/469 [==============================] - 16s 34ms/step - loss: 0.0246 - accuracy: 0.9920 - val_loss: 0.0691 - val_accuracy: 0.9824\n",
            "Epoch 10/20\n",
            "469/469 [==============================] - 10s 21ms/step - loss: 0.0221 - accuracy: 0.9931 - val_loss: 0.0671 - val_accuracy: 0.9838\n",
            "Epoch 11/20\n",
            "469/469 [==============================] - 11s 23ms/step - loss: 0.0186 - accuracy: 0.9938 - val_loss: 0.0696 - val_accuracy: 0.9846\n",
            "Epoch 12/20\n",
            "469/469 [==============================] - 9s 19ms/step - loss: 0.0179 - accuracy: 0.9938 - val_loss: 0.0755 - val_accuracy: 0.9834\n",
            "Epoch 13/20\n",
            "469/469 [==============================] - 10s 21ms/step - loss: 0.0151 - accuracy: 0.9953 - val_loss: 0.0667 - val_accuracy: 0.9858\n",
            "Epoch 14/20\n",
            "469/469 [==============================] - 10s 22ms/step - loss: 0.0145 - accuracy: 0.9954 - val_loss: 0.0721 - val_accuracy: 0.9835\n",
            "Epoch 15/20\n",
            "469/469 [==============================] - 10s 22ms/step - loss: 0.0136 - accuracy: 0.9955 - val_loss: 0.0807 - val_accuracy: 0.9840\n",
            "Epoch 16/20\n",
            "469/469 [==============================] - 10s 22ms/step - loss: 0.0127 - accuracy: 0.9957 - val_loss: 0.0740 - val_accuracy: 0.9848\n",
            "Epoch 17/20\n",
            "469/469 [==============================] - 9s 20ms/step - loss: 0.0121 - accuracy: 0.9957 - val_loss: 0.0703 - val_accuracy: 0.9860\n",
            "Epoch 18/20\n",
            "469/469 [==============================] - 10s 22ms/step - loss: 0.0111 - accuracy: 0.9963 - val_loss: 0.0779 - val_accuracy: 0.9853\n",
            "Epoch 19/20\n",
            "469/469 [==============================] - 11s 23ms/step - loss: 0.0097 - accuracy: 0.9969 - val_loss: 0.0812 - val_accuracy: 0.9847\n",
            "Epoch 20/20\n",
            "469/469 [==============================] - 10s 21ms/step - loss: 0.0083 - accuracy: 0.9972 - val_loss: 0.0805 - val_accuracy: 0.9856\n"
          ]
        },
        {
          "output_type": "execute_result",
          "data": {
            "text/plain": [
              "<keras.callbacks.History at 0x7f1f8d0b1880>"
            ]
          },
          "metadata": {},
          "execution_count": 12
        }
      ]
    },
    {
      "cell_type": "code",
      "source": [
        "score=model.evaluate(x_test,y_test,verbose=1)"
      ],
      "metadata": {
        "colab": {
          "base_uri": "https://localhost:8080/"
        },
        "id": "KXgnycFKzqwG",
        "outputId": "d1349906-fda0-4dee-f778-5585631c8bc1"
      },
      "execution_count": 13,
      "outputs": [
        {
          "output_type": "stream",
          "name": "stdout",
          "text": [
            "313/313 [==============================] - 3s 9ms/step - loss: 0.0805 - accuracy: 0.9856\n"
          ]
        }
      ]
    },
    {
      "cell_type": "code",
      "source": [
        "model.save('final.h5')"
      ],
      "metadata": {
        "id": "z2aZb-DSz7ln"
      },
      "execution_count": 14,
      "outputs": []
    },
    {
      "cell_type": "code",
      "source": [
        "history=model.fit(x_train, y_train, batch_size=128,epochs =5, verbose=1,validation_data=(x_test,y_test))"
      ],
      "metadata": {
        "colab": {
          "base_uri": "https://localhost:8080/"
        },
        "id": "cJa25GjGz96T",
        "outputId": "e317c643-6c79-4f57-9e6d-057ee0836e62"
      },
      "execution_count": 15,
      "outputs": [
        {
          "output_type": "stream",
          "name": "stdout",
          "text": [
            "Epoch 1/5\n",
            "469/469 [==============================] - 10s 22ms/step - loss: 0.0084 - accuracy: 0.9972 - val_loss: 0.0787 - val_accuracy: 0.9850\n",
            "Epoch 2/5\n",
            "469/469 [==============================] - 10s 21ms/step - loss: 0.0066 - accuracy: 0.9978 - val_loss: 0.0812 - val_accuracy: 0.9851\n",
            "Epoch 3/5\n",
            "469/469 [==============================] - 9s 19ms/step - loss: 0.0076 - accuracy: 0.9976 - val_loss: 0.0935 - val_accuracy: 0.9850\n",
            "Epoch 4/5\n",
            "469/469 [==============================] - 10s 21ms/step - loss: 0.0077 - accuracy: 0.9977 - val_loss: 0.0818 - val_accuracy: 0.9851\n",
            "Epoch 5/5\n",
            "469/469 [==============================] - 10s 21ms/step - loss: 0.0077 - accuracy: 0.9974 - val_loss: 0.0929 - val_accuracy: 0.9835\n"
          ]
        }
      ]
    },
    {
      "cell_type": "code",
      "source": [
        "score = model.evaluate(x_test, y_test, verbose=1)\n",
        "print('Test loss =', score[0])\n",
        "print('Test accurracy =', score[1])"
      ],
      "metadata": {
        "colab": {
          "base_uri": "https://localhost:8080/"
        },
        "id": "VKnD6fCAz_PS",
        "outputId": "136ab70c-76e6-41a4-bb70-0fb233b99fae"
      },
      "execution_count": 16,
      "outputs": [
        {
          "output_type": "stream",
          "name": "stdout",
          "text": [
            "313/313 [==============================] - 1s 4ms/step - loss: 0.0929 - accuracy: 0.9835\n",
            "Test loss = 0.09294535964727402\n",
            "Test accurracy = 0.9835000038146973\n"
          ]
        }
      ]
    },
    {
      "cell_type": "code",
      "source": [
        "plt.plot(history.history['accuracy'])\n",
        "plt.plot(history.history['val_accuracy'])\n",
        "plt.title('Model Accuracy')\n",
        "plt.ylabel('accuracy')\n",
        "plt.ylabel('epoch')\n",
        "plt.legend(['train','validation'],loc='upper left')"
      ],
      "metadata": {
        "colab": {
          "base_uri": "https://localhost:8080/",
          "height": 469
        },
        "id": "hUzEZI820BxU",
        "outputId": "d98a9597-4a9c-47a5-8386-030e188248b9"
      },
      "execution_count": 17,
      "outputs": [
        {
          "output_type": "execute_result",
          "data": {
            "text/plain": [
              "<matplotlib.legend.Legend at 0x7f1f8d0ba940>"
            ]
          },
          "metadata": {},
          "execution_count": 17
        },
        {
          "output_type": "display_data",
          "data": {
            "text/plain": [
              "<Figure size 640x480 with 1 Axes>"
            ],
            "image/png": "[encoded data removed]"
          },
          "metadata": {}
        }
      ]
    },
    {
      "cell_type": "code",
      "source": [
        "from keras.datasets import fashion_mnist\n",
        "y_pred=model.predict(x_test)\n",
        "for i in range(9):\n",
        "  plt.subplot(330+i+1)\n",
        "  plt.imshow(x[i])\n",
        "  print(y_pred[i])\n",
        "  plt.show()"
      ],
      "metadata": {
        "colab": {
          "base_uri": "https://localhost:8080/",
          "height": 1000
        },
        "id": "v6u-OVZM0DFk",
        "outputId": "2eddf252-361a-49bb-edca-0544e2da45e6"
      },
      "execution_count": 18,
      "outputs": [
        {
          "output_type": "stream",
          "name": "stdout",
          "text": [
            "313/313 [==============================] - 2s 6ms/step\n",
            "[8.98492250e-17 1.10118866e-14 1.55811615e-15 5.21452890e-12\n",
            " 1.56954978e-18 2.50006991e-19 3.65197516e-24 9.99999940e-01\n",
            " 1.57168949e-17 1.53895369e-11]\n"
          ]
        },
        {
          "output_type": "display_data",
          "data": {
            "text/plain": [
              "<Figure size 640x480 with 1 Axes>"
            ],
            "image/png": "[encoded data removed]"
          },
          "metadata": {}
        },
        {
          "output_type": "stream",
          "name": "stdout",
          "text": [
            "[5.2991911e-20 1.1765586e-15 9.9999994e-01 5.9438297e-20 2.3307350e-30\n",
            " 1.4087879e-26 8.9930814e-25 5.8977651e-24 2.2398044e-23 3.2270231e-34]\n"
          ]
        },
        {
          "output_type": "display_data",
          "data": {
            "text/plain": [
              "<Figure size 640x480 with 1 Axes>"
            ],
            "image/png": "[encoded data removed]"
          },
          "metadata": {}
        },
        {
          "output_type": "stream",
          "name": "stdout",
          "text": [
            "[3.16694237e-16 9.99999940e-01 1.60947540e-11 1.18194263e-16\n",
            " 6.99406678e-12 4.31113216e-15 5.28926295e-13 9.46523748e-10\n",
            " 1.03352795e-11 1.38720687e-17]\n"
          ]
        },
        {
          "output_type": "display_data",
          "data": {
            "text/plain": [
              "<Figure size 640x480 with 1 Axes>"
            ],
            "image/png": "[encoded data removed]"
          },
          "metadata": {}
        },
        {
          "output_type": "stream",
          "name": "stdout",
          "text": [
            "[9.9999994e-01 2.4527906e-11 6.4314315e-10 3.0266042e-14 1.7175326e-13\n",
            " 1.7972290e-12 1.5312314e-09 3.2905629e-12 1.6714097e-16 1.4897170e-11]\n"
          ]
        },
        {
          "output_type": "display_data",
          "data": {
            "text/plain": [
              "<Figure size 640x480 with 1 Axes>"
            ],
            "image/png": "[encoded data removed]"
          },
          "metadata": {}
        },
        {
          "output_type": "stream",
          "name": "stdout",
          "text": [
            "[4.0079195e-13 5.8505302e-16 1.1018141e-15 5.0649618e-19 9.9999994e-01\n",
            " 7.6918321e-19 2.5211229e-17 3.7130897e-12 5.1290720e-17 3.3255308e-08]\n"
          ]
        },
        {
          "output_type": "display_data",
          "data": {
            "text/plain": [
              "<Figure size 640x480 with 1 Axes>"
            ],
            "image/png": "[encoded data removed]"
          },
          "metadata": {}
        },
        {
          "output_type": "stream",
          "name": "stdout",
          "text": [
            "[8.1595386e-19 9.9999994e-01 3.1684286e-16 3.7923113e-18 2.8978198e-12\n",
            " 2.0230665e-19 1.0031438e-16 5.1897806e-09 1.3680416e-13 4.3289712e-19]\n"
          ]
        },
        {
          "output_type": "display_data",
          "data": {
            "text/plain": [
              "<Figure size 640x480 with 1 Axes>"
            ],
            "image/png": "[encoded data removed]"
          },
          "metadata": {}
        },
        {
          "output_type": "stream",
          "name": "stdout",
          "text": [
            "[2.1203828e-18 2.1099270e-17 3.7956394e-18 1.4341749e-19 9.9999982e-01\n",
            " 2.7994397e-14 4.2584923e-19 9.4627261e-14 4.8119053e-10 1.6017566e-07]\n"
          ]
        },
        {
          "output_type": "display_data",
          "data": {
            "text/plain": [
              "<Figure size 640x480 with 1 Axes>"
            ],
            "image/png": "[encoded data removed]"
          },
          "metadata": {}
        },
        {
          "output_type": "stream",
          "name": "stdout",
          "text": [
            "[3.6979198e-21 2.8459619e-17 5.5476565e-14 7.5784286e-09 4.6926222e-12\n",
            " 4.3551004e-15 3.7473013e-25 6.2947195e-13 4.0402200e-19 9.9999994e-01]\n"
          ]
        },
        {
          "output_type": "display_data",
          "data": {
            "text/plain": [
              "<Figure size 640x480 with 1 Axes>"
            ],
            "image/png": "[encoded data removed]"
          },
          "metadata": {}
        },
        {
          "output_type": "stream",
          "name": "stdout",
          "text": [
            "[2.8829783e-16 8.8641214e-16 4.6771246e-13 1.0465022e-16 6.9721340e-11\n",
            " 9.8357099e-01 1.6425883e-02 1.6969477e-19 3.6035539e-07 2.6627854e-06]\n"
          ]
        },
        {
          "output_type": "display_data",
          "data": {
            "text/plain": [
              "<Figure size 640x480 with 1 Axes>"
            ],
            "image/png": "[encoded data removed]"
          },
          "metadata": {}
        }
      ]
    },
    {
      "cell_type": "code",
      "source": [],
      "metadata": {
        "id": "tm2jzY3o1cKP"
      },
      "execution_count": null,
      "outputs": []
    }
  ]
}